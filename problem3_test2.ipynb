{
 "cells": [
  {
   "cell_type": "code",
   "execution_count": 9,
   "metadata": {},
   "outputs": [
    {
     "name": "stdout",
     "output_type": "stream",
     "text": [
      "Index(['温度，oC', '频率，Hz', '磁芯损耗，w/m3', '励磁波形', 'material'], dtype='object')\n",
      "Index(['Temperature', 'Frequency', 'Core_Loss', 'Waveform', 'Material'], dtype='object')\n"
     ]
    }
   ],
   "source": [
    "import pandas as pd\n",
    "import numpy as np\n",
    "import matplotlib.pyplot as plt\n",
    "import seaborn as sns\n",
    "from sklearn.linear_model import LinearRegression\n",
    "from sklearn.preprocessing import OneHotEncoder\n",
    "\n",
    "# 读取数据\n",
    "data = pd.read_excel('附件一（训练集）.xlsx', sheet_name=None,)\n",
    "\n",
    "# 合并四个材料的数据\n",
    "df_list = []\n",
    "for sheet_name, df in data.items():\n",
    "    df['material'] = sheet_name  # 添加材料类别\n",
    "    df_list.append(df)\n",
    "df = pd.concat(df_list, ignore_index=True)\n",
    "print(df.columns)\n",
    "\n",
    "# 重命名列\n",
    "df.columns = ['Temperature', 'Frequency', 'Core_Loss', 'Waveform', 'Material']  # 修正错别字\n",
    "print(df.columns)\n"
   ]
  },
  {
   "cell_type": "code",
   "execution_count": null,
   "metadata": {},
   "outputs": [],
   "source": [
    "from sklearn.feature_selection import mutual_info_regression\n",
    "\n",
    "# 将励磁波形和磁芯材料进行独热编码\n",
    "encoder = OneHotEncoder(sparse_output=False)\n",
    "encoded_features = encoder.fit_transform(df[['Waveform', 'Material']])\n",
    "\n",
    "# 计算互信息\n",
    "mi = mutual_info_regression(encoded_features, df['Core_Loss'])\n",
    "\n",
    "# 输出互信息结果\n",
    "for feature, score in zip(encoder.get_feature_names_out(['Waveform', 'Material']), mi):\n",
    "    print(f'Mutual Information between {feature} and Core Loss: {score}')\n"
   ]
  },
  {
   "cell_type": "code",
   "execution_count": 15,
   "metadata": {},
   "outputs": [
    {
     "name": "stdout",
     "output_type": "stream",
     "text": [
      "Ridge Coefficients after Scaling: [ 16171.99658642  13978.3487141  -30173.33608255  -5041.85151554\n",
      "   9326.48539863  15590.1717235  -20488.99077586   3025.85024943\n",
      "  22615.6133191   17760.70918723 -13088.16665733  -6062.74223706\n",
      "  10448.01091709  23636.05230767  -8629.82986905  -5778.97095151\n",
      " -17195.22741645 -18043.51176144 -10573.99346559]\n",
      "Cross-Validation Scores: [-2.30722911  0.03301685  0.0287332  -0.01015243 -0.07214884]\n",
      "Average Cross-Validation Score: -0.46555606560905255\n",
      "                    Feature   Coefficient\n",
      "0              Waveform_三角波  16171.996586\n",
      "1              Waveform_梯形波  13978.348714\n",
      "2              Waveform_正弦波 -30173.336083\n",
      "3        Material_material1  -5041.851516\n",
      "4        Material_material2   9326.485399\n",
      "5        Material_material3  15590.171724\n",
      "6        Material_material4 -20488.990776\n",
      "7   Waveform_0 x Material_0   3025.850249\n",
      "8   Waveform_0 x Material_1  22615.613319\n",
      "9   Waveform_0 x Material_2  17760.709187\n",
      "10  Waveform_0 x Material_3 -13088.166657\n",
      "11  Waveform_1 x Material_0  -6062.742237\n",
      "12  Waveform_1 x Material_1  10448.010917\n",
      "13  Waveform_1 x Material_2  23636.052308\n",
      "14  Waveform_1 x Material_3  -8629.829869\n",
      "15  Waveform_2 x Material_0  -5778.970952\n",
      "16  Waveform_2 x Material_1 -17195.227416\n",
      "17  Waveform_2 x Material_2 -18043.511761\n",
      "18  Waveform_2 x Material_3 -10573.993466\n"
     ]
    }
   ],
   "source": [
    "import pandas as pd\n",
    "import numpy as np\n",
    "from sklearn.preprocessing import OneHotEncoder, StandardScaler\n",
    "from sklearn.linear_model import Ridge\n",
    "from sklearn.model_selection import cross_val_score\n",
    "\n",
    "# 假设 df 已经存在并且具有正确的列名\n",
    "\n",
    "# 1. 对励磁波形和材料分别进行独热编码\n",
    "waveform_encoder = OneHotEncoder(sparse_output=False)\n",
    "material_encoder = OneHotEncoder(sparse_output=False)\n",
    "\n",
    "encoded_waveform = waveform_encoder.fit_transform(df[['Waveform']])\n",
    "encoded_material = material_encoder.fit_transform(df[['Material']])\n",
    "\n",
    "# 2. 创建交互项：逐个编码的波形和材料列相乘，产生交互项\n",
    "interaction_terms = np.array([encoded_waveform[:, i] * encoded_material[:, j] \n",
    "                              for i in range(encoded_waveform.shape[1]) \n",
    "                              for j in range(encoded_material.shape[1])]).T\n",
    "\n",
    "# 3. 将编码后的波形、材料及其交互项组合在一起\n",
    "X = np.concatenate([encoded_waveform, encoded_material, interaction_terms], axis=1)\n",
    "y = df['Core_Loss']\n",
    "\n",
    "# 4. 特征标准化：使用 StandardScaler 进行特征缩放\n",
    "scaler = StandardScaler()\n",
    "X_scaled = scaler.fit_transform(X)\n",
    "\n",
    "# 5. 使用 Ridge 回归拟合模型，alpha 值可以根据需要调整正则化的强度\n",
    "model = Ridge(alpha=1.0)  # 可以调整 alpha 来控制正则化的强度\n",
    "model.fit(X_scaled, y)\n",
    "\n",
    "# 6. 打印回归系数\n",
    "coefficients = model.coef_\n",
    "print(f\"Ridge Coefficients after Scaling: {coefficients}\")\n",
    "\n",
    "# 7. 进行交叉验证，评估模型稳定性和性能\n",
    "scores = cross_val_score(model, X_scaled, y, cv=5)  # 5折交叉验证\n",
    "print(f\"Cross-Validation Scores: {scores}\")\n",
    "print(f\"Average Cross-Validation Score: {np.mean(scores)}\")\n",
    "\n",
    "# 8. 生成特征名：将Waveform和Material的特征名分别生成，并加入交互项的特征名\n",
    "waveform_feature_names = waveform_encoder.get_feature_names_out(['Waveform'])\n",
    "material_feature_names = material_encoder.get_feature_names_out(['Material'])\n",
    "interaction_feature_names = [f\"Waveform_{i} x Material_{j}\" for i in range(encoded_waveform.shape[1]) \n",
    "                                                             for j in range(encoded_material.shape[1])]\n",
    "\n",
    "# 将所有特征名组合在一起\n",
    "feature_names = np.concatenate([waveform_feature_names, material_feature_names, interaction_feature_names])\n",
    "\n",
    "# 9. 打印回归系数和特征名的对应关系\n",
    "coefficients_df = pd.DataFrame({'Feature': feature_names, 'Coefficient': coefficients})\n",
    "print(coefficients_df)\n"
   ]
  }
 ],
 "metadata": {
  "kernelspec": {
   "display_name": "pytorch",
   "language": "python",
   "name": "python3"
  },
  "language_info": {
   "codemirror_mode": {
    "name": "ipython",
    "version": 3
   },
   "file_extension": ".py",
   "mimetype": "text/x-python",
   "name": "python",
   "nbconvert_exporter": "python",
   "pygments_lexer": "ipython3",
   "version": "3.10.4"
  }
 },
 "nbformat": 4,
 "nbformat_minor": 2
}
